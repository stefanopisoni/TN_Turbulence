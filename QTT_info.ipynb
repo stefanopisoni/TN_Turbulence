{
 "cells": [
  {
   "cell_type": "code",
   "execution_count": null,
   "metadata": {},
   "outputs": [],
   "source": [
    "from datetime import datetime\n",
    "import matplotlib.pyplot as plt\n",
    "\n",
    "import numpy as np\n",
    "import torch\n",
    "\n",
    "import sys\n",
    "sys.path.append('../tensnet/src/')\n",
    "import tensnet as tt\n",
    "\n",
    "torch.set_default_dtype(torch.float64)"
   ]
  },
  {
   "cell_type": "markdown",
   "metadata": {},
   "source": [
    "Print slice of solution and TOT number of parameters from 3D QTT solver evolution"
   ]
  },
  {
   "cell_type": "code",
   "execution_count": null,
   "metadata": {},
   "outputs": [],
   "source": [
    "Li = 10\n",
    "d = 2\n",
    "encoding_prefix = \"sta\"\n",
    "opt_method = \"linsys\"\n",
    "noq = 3 * Li\n",
    "bd_max = 100\n",
    "T = 20\n",
    "\n",
    "var = 1729495637\n",
    "name = f'{encoding_prefix}_{opt_method}_noq_{noq}_BD_{bd_max}_iter_{T}_{var}'\n",
    "\n",
    "\n",
    "solution = tt.load_object(f'/Users/stefanopisoni/NoSync/3D_evolution/results/{name}.mpssol')\n",
    "slice_mps = solution[0][10] # first index: u,v,w,p,times; second index: snapshot from 0 to T-1\n",
    "print(slice_mps)\n",
    "total_params = sum(t.numel() for t in slice_mps.parameters())\n",
    "print(total_params)"
   ]
  },
  {
   "cell_type": "markdown",
   "metadata": {},
   "source": [
    "Print TOT number of parameters from compressed MPS (torch)"
   ]
  },
  {
   "cell_type": "code",
   "execution_count": null,
   "metadata": {},
   "outputs": [],
   "source": [
    "bd_max = 100\n",
    "\n",
    "solution = torch.load(f'/Users/stefanopisoni/NoSync/MPS/10qubits_torch/tur_u_mps_sta_BD_{bd_max}_torch.mps')\n",
    "print(solution)\n",
    "total_params = sum(t.numel() for t in solution.parameters())\n",
    "print(total_params)"
   ]
  },
  {
   "cell_type": "markdown",
   "metadata": {},
   "source": [
    "$L^{\\infty}$-norm of the solution, computed to evaluate CFL."
   ]
  },
  {
   "cell_type": "code",
   "execution_count": null,
   "metadata": {},
   "outputs": [],
   "source": [
    "vec = slice_mps.contract()\n",
    "max_abs_value = torch.max(torch.abs(vec))\n",
    "print(max_abs_value)"
   ]
  },
  {
   "cell_type": "markdown",
   "metadata": {},
   "source": [
    "Print slices from 3D QTT evolution"
   ]
  },
  {
   "cell_type": "code",
   "execution_count": null,
   "metadata": {},
   "outputs": [],
   "source": [
    "slice_mps_9 = slice_mps.average(9).average(18).average(27)\n",
    "slice_mps_8 = slice_mps_9.average(8).average(16).average(24)\n",
    "\n",
    "slice_vec_8 = slice_mps_8.contract().reshape(2**8,2**8,2**8)\n",
    "print(slice_vec_8.shape)\n",
    "\n",
    "# Print figure\n",
    "fig = plt.figure(figsize=(12,12))\n",
    "a = fig.add_subplot(121)\n",
    "p = a.imshow(slice_vec_8[:,:,100])\n",
    "a.set_title('Slice of averaged solution on 8qb for 3D QTT solver')\n",
    "\n",
    "cbar1 = fig.colorbar(p, ax=a, fraction=0.046, pad=0.04)\n",
    "cbar1.ax.tick_params(labelsize=8)\n",
    "\n",
    "plt.savefig('Slice of averaged solution on 8qb for 3D QTT solver.pdf')"
   ]
  }
 ],
 "metadata": {
  "kernelspec": {
   "display_name": "base",
   "language": "python",
   "name": "python3"
  },
  "language_info": {
   "codemirror_mode": {
    "name": "ipython",
    "version": 3
   },
   "file_extension": ".py",
   "mimetype": "text/x-python",
   "name": "python",
   "nbconvert_exporter": "python",
   "pygments_lexer": "ipython3",
   "version": "3.9.12"
  }
 },
 "nbformat": 4,
 "nbformat_minor": 2
}
